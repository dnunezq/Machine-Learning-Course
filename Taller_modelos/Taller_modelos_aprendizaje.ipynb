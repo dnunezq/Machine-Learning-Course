{
 "cells": [
  {
   "attachments": {},
   "cell_type": "markdown",
   "metadata": {
    "id": "s-y8Kil2snGk"
   },
   "source": [
    "# Taller modelos de aprendizaje\n",
    "\n",
    "Partiendo de los problemas del taller modelos de SVM, se va a implementar un modelo de aprendizaje de maquina que considere los espacios de hipótesis revisados en clase. El modelo debe garantizar:\n",
    "\n",
    "1. Generalización por medio de una estrategia de adecuada de validación cruzada.\n",
    "2. Ajuste de hiperparametros (con una selección adecuada de hiperparametros para cada modelo)"
   ]
  },
  {
   "attachments": {},
   "cell_type": "markdown",
   "metadata": {},
   "source": [
    "Para el problema de clasificación de billetes se va a usar como medida de rendimiento el accuracy, mientras que para el problema de clasificación de ocupación de una oficina se va a usar la sensibiliad como medida de rendimiento. Esto en parte por el desbalance de clases en este segundo problema.\n",
    "\n",
    "Para los dos problemas se va a usar un modelo perceptron, esto debido a la naturaleza del problema y además que su dimensión VC es $d+1$ donde $d$ es la dimensión del espacio de características, lo que teóricamente acota la probabilad de aprendizaje o generalización.\n"
   ]
  },
  {
   "attachments": {},
   "cell_type": "markdown",
   "metadata": {},
   "source": [
    "---"
   ]
  },
  {
   "cell_type": "code",
   "execution_count": 7,
   "metadata": {},
   "outputs": [],
   "source": [
    "#Import neccesary libraries to run the code.\n",
    "import pandas as pd\n",
    "import numpy as np\n",
    "import matplotlib.pyplot as plt\n",
    "from sklearn.linear_model import Perceptron\n",
    "from sklearn.model_selection import StratifiedKFold\n",
    "from sklearn.model_selection import cross_val_score\n",
    "from sklearn.metrics import recall_score"
   ]
  },
  {
   "attachments": {},
   "cell_type": "markdown",
   "metadata": {},
   "source": [
    "### Clasificación de billetes"
   ]
  },
  {
   "attachments": {},
   "cell_type": "markdown",
   "metadata": {},
   "source": [
    "Debido a que para el primer problema se poseen pocos datos, se va a manejar una estrategia de validación cruzada para poder generalizar, en específico se va a usar k-folds. Adicional a esto para este problema se va a ajustar el parametro para el numero de folds que se van a usar."
   ]
  },
  {
   "cell_type": "code",
   "execution_count": 9,
   "metadata": {},
   "outputs": [],
   "source": [
    "#import the data\n",
    "columns_dataset=[\"Variance W.T\",\"Skewness W.T\",\"Curtosis of W.T\",\"Entropy Image\",\"Class\"]\n",
    "df=pd.read_csv('data/bank_note/data_banknote_authentication.txt',names=columns_dataset)\n",
    "\n",
    "#Set of features vectors\n",
    "X=df[[\"Variance W.T\",\"Skewness W.T\",\"Curtosis of W.T\",\"Entropy Image\"]]\n",
    "#Labels\n",
    "y=df[\"Class\"]"
   ]
  },
  {
   "cell_type": "code",
   "execution_count": 30,
   "metadata": {},
   "outputs": [],
   "source": [
    "def run_model_1(n_folds):\n",
    "    # Create a Perceptron classifier\n",
    "    perceptron = Perceptron()\n",
    "\n",
    "    # Create a StratifiedKFold object\n",
    "    kf = StratifiedKFold(n_splits=n_folds, shuffle=True, random_state=42)\n",
    "\n",
    "    # Define the sensitivity (recall) score as a custom scorer\n",
    "    sensitivity_scorer = make_scorer(recall_score, pos_label=1)\n",
    "\n",
    "    # Perform cross-validation\n",
    "    scores = cross_val_score(perceptron, X, y,cv=kf)\n",
    "\n",
    "    # Print the accuracy scores for each fold\n",
    "    print(f'Performance with #folds = {n_folds} ---------------------')\n",
    "    #for i, score in enumerate(scores):\n",
    "    #    print(f\"Fold {i+1} accuracy: {score}\")\n",
    "\n",
    "    # Print the mean accuracy across all folds\n",
    "    print(f\"Mean accuracy: {np.mean(scores)}\")\n",
    "    return np.mean(scores)"
   ]
  },
  {
   "cell_type": "code",
   "execution_count": 31,
   "metadata": {},
   "outputs": [
    {
     "name": "stdout",
     "output_type": "stream",
     "text": [
      "Performance with #folds = 3 ---------------------\n",
      "Mean accuracy: 0.9861510579406865\n",
      "Performance with #folds = 4 ---------------------\n",
      "Mean accuracy: 0.9861516034985424\n",
      "Performance with #folds = 5 ---------------------\n",
      "Mean accuracy: 0.9745109489051096\n",
      "Performance with #folds = 6 ---------------------\n",
      "Mean accuracy: 0.9795928139125105\n",
      "Performance with #folds = 7 ---------------------\n",
      "Mean accuracy: 0.9861516034985423\n",
      "Performance with #folds = 8 ---------------------\n",
      "Mean accuracy: 0.9839606283149734\n",
      "Performance with #folds = 9 ---------------------\n",
      "Mean accuracy: 0.9832492451171502\n",
      "Performance with #folds = 10 ---------------------\n",
      "Mean accuracy: 0.9832222574843964\n",
      "Performance with #folds = 11 ---------------------\n",
      "Mean accuracy: 0.9832492668621701\n",
      "Performance with #folds = 12 ---------------------\n",
      "Mean accuracy: 0.9847190439867785\n",
      "Performance with #folds = 13 ---------------------\n",
      "Mean accuracy: 0.9832469417375077\n",
      "Performance with #folds = 14 ---------------------\n",
      "Mean accuracy: 0.9795918367346939\n"
     ]
    },
    {
     "data": {
      "text/plain": [
       "[<matplotlib.lines.Line2D at 0x29764748e20>]"
      ]
     },
     "execution_count": 31,
     "metadata": {},
     "output_type": "execute_result"
    },
    {
     "data": {
      "image/png": "[encoded data removed]",
      "text/plain": [
       "<Figure size 432x288 with 1 Axes>"
      ]
     },
     "metadata": {
      "needs_background": "light"
     },
     "output_type": "display_data"
    }
   ],
   "source": [
    "#number of max iterations options\n",
    "iteration_options=list(range(3,15))\n",
    "mean_accuracy_results=[]\n",
    "\n",
    "for i in iteration_options:\n",
    "    mean_accuracy_results.append(run_model_1(i))\n",
    "    \n",
    "plt.plot(iteration_options,mean_accuracy_results)"
   ]
  },
  {
   "attachments": {},
   "cell_type": "markdown",
   "metadata": {},
   "source": [
    "en este caso se observa que se obtienen los mejores resultados cuando se realiza un 3-fold, 4-fold o un 7-fold, en cuyo caso se tiene un accuracy promedio de 0.9861516034985423 "
   ]
  },
  {
   "attachments": {},
   "cell_type": "markdown",
   "metadata": {},
   "source": [
    "Se tiene entonces que la dimensión del espacio VC del perceptron, en este caso es 5, pues la dimensión del espacio de características es 4. De esta manera se podría tener una cota para el error de generalización a partir de la desigualdad de Vapnik-Chervonenkis.\n"
   ]
  },
  {
   "attachments": {},
   "cell_type": "markdown",
   "metadata": {},
   "source": [
    "--- "
   ]
  },
  {
   "attachments": {},
   "cell_type": "markdown",
   "metadata": {},
   "source": [
    "### Ocupación de oficina"
   ]
  },
  {
   "attachments": {},
   "cell_type": "markdown",
   "metadata": {},
   "source": [
    "En este caso se cuenta con un dataset de entrenamiento,uno de validación y uno de test.Dado que el atributo $date$ es un string, se decide tomar dia,hora y minutos como atributos por separado."
   ]
  },
  {
   "cell_type": "code",
   "execution_count": 91,
   "metadata": {},
   "outputs": [],
   "source": [
    "#import the data\n",
    "columns_dataset2=[\"date\",\"Temperature\",\"Humidity\",\"Light\",\"CO2\",\"HumidityRatio\",\"Occupancy\"]\n",
    "train=pd.read_csv('data/occupancy_data/datatraining.txt',names=columns_dataset2,header=0)\n",
    "validation=pd.read_csv('data/occupancy_data/datatest.txt',names=columns_dataset2,header=0)\n",
    "test=pd.read_csv('data/occupancy_data/datatest2.txt',names=columns_dataset2,header=0)\n"
   ]
  },
  {
   "cell_type": "code",
   "execution_count": 98,
   "metadata": {},
   "outputs": [],
   "source": [
    "#TRAIN\n",
    "#Separate the feature of date in day,month,year,hour,minute\n",
    "train[\"date\"]=pd.to_datetime(train[\"date\"])\n",
    "train['day'] = train[\"date\"].dt.day\n",
    "train['hour'] = train[\"date\"].dt.hour\n",
    "train['minute'] = train[\"date\"].dt.minute\n",
    "#Set of features vectors \n",
    "x_train=train[[\"Temperature\",\"Humidity\",\"Light\",\"CO2\",\"HumidityRatio\",\"Occupancy\",\"day\",\"hour\",\"minute\"]]\n",
    "#Labels\n",
    "y_train=train[\"Occupancy\"]"
   ]
  },
  {
   "cell_type": "code",
   "execution_count": 99,
   "metadata": {},
   "outputs": [],
   "source": [
    "#Validation\n",
    "#Separate the feature of date in day,month,year,hour,minute\n",
    "validation[\"date\"]=pd.to_datetime(test1[\"date\"])\n",
    "validation['day'] = validation[\"date\"].dt.day\n",
    "validation['hour'] = validation[\"date\"].dt.hour\n",
    "validation['minute'] = validation[\"date\"].dt.minute\n",
    "#Set of features vectors \n",
    "x_validation=validation[[\"Temperature\",\"Humidity\",\"Light\",\"CO2\",\"HumidityRatio\",\"Occupancy\",\"day\",\"hour\",\"minute\"]]\n",
    "#Labels\n",
    "y_validation=validation[\"Occupancy\"]"
   ]
  },
  {
   "cell_type": "code",
   "execution_count": 100,
   "metadata": {},
   "outputs": [],
   "source": [
    "#TEST\n",
    "#Separate the feature of date in day,month,year,hour,minute\n",
    "test[\"date\"]=pd.to_datetime(test2[\"date\"])\n",
    "test['day'] = test2[\"date\"].dt.day\n",
    "test['hour'] = test2[\"date\"].dt.hour\n",
    "test['minute'] = test2[\"date\"].dt.minute\n",
    "#Set of features vectors \n",
    "x_test=test[[\"Temperature\",\"Humidity\",\"Light\",\"CO2\",\"HumidityRatio\",\"Occupancy\",\"day\",\"hour\",\"minute\"]]\n",
    "#Labels\n",
    "y_test=test[\"Occupancy\"]"
   ]
  },
  {
   "attachments": {},
   "cell_type": "markdown",
   "metadata": {},
   "source": [
    "Para este problema se usará sensibilidad como medida de rendimiento, y se ajustará el parámetro del máximo número de iteraciones para el modelo de perceptron."
   ]
  },
  {
   "cell_type": "code",
   "execution_count": 101,
   "metadata": {},
   "outputs": [],
   "source": [
    "def run_model_2(max_iters,train,validation):\n",
    "    # Create a Perceptron classifier\n",
    "    perceptron = Perceptron(max_iter=max_iters)\n",
    "\n",
    "    perceptron.fit(train[0],train[1])\n",
    "    \n",
    "    y_pred=perceptron.predict(validation[0])\n",
    "    \n",
    "    sensivity_result=recall_score(validation[1].tolist(),y_pred)\n",
    "\n",
    "    # Print the mean accuracy across all folds\n",
    "    print(f\"sensivity with # iterations = {max_iters}: {sensivity_result}\")\n",
    "    return sensivity_result"
   ]
  },
  {
   "cell_type": "code",
   "execution_count": 102,
   "metadata": {},
   "outputs": [
    {
     "name": "stdout",
     "output_type": "stream",
     "text": [
      "sensivity with # iterations = 30: 0.9989711934156379\n",
      "sensivity with # iterations = 50: 0.9989711934156379\n",
      "sensivity with # iterations = 200: 0.9989711934156379\n",
      "sensivity with # iterations = 80: 0.9989711934156379\n",
      "sensivity with # iterations = 100: 0.9989711934156379\n",
      "sensivity with # iterations = 350: 0.9989711934156379\n",
      "sensivity with # iterations = 500: 0.9989711934156379\n",
      "sensivity with # iterations = 1000: 0.9989711934156379\n"
     ]
    }
   ],
   "source": [
    "#make predictions changing max_iters hyperparameter\n",
    "\n",
    "max_iters_options=[30,50,200,80,100,350,500,1000]\n",
    "for i in max_iters_options:\n",
    "    run_model_2(i,[x_train,y_train],[x_validation,y_validation])"
   ]
  },
  {
   "attachments": {},
   "cell_type": "markdown",
   "metadata": {},
   "source": [
    "Se observa que la convergencía del modelo es rapida por lo que el número de iteraciones en realidad no tiene tanta importancia en este caso, de acuerdo a esto elegimos como modelo final el que realiza 30 iteraciones como máximo y acontinuación obtenemos el resultado de la sensibilidad para el dataset de test"
   ]
  },
  {
   "cell_type": "code",
   "execution_count": 104,
   "metadata": {},
   "outputs": [
    {
     "name": "stdout",
     "output_type": "stream",
     "text": [
      "sensivity with # iterations = 30: 0.9882869692532943\n"
     ]
    },
    {
     "data": {
      "text/plain": [
       "0.9882869692532943"
      ]
     },
     "execution_count": 104,
     "metadata": {},
     "output_type": "execute_result"
    }
   ],
   "source": [
    "#make predictions for the test \n",
    "run_model_2(30,[x_train,y_train],[x_test,y_test])"
   ]
  },
  {
   "attachments": {},
   "cell_type": "markdown",
   "metadata": {},
   "source": [
    "De esta manera tuvimos una buena medida de desempeño y además se podría acotar el error de generalización teniendo en cuenta que la dimensión vc es 10 y luego se usaría la desigualdad de Vapnik-Chervonenkis."
   ]
  }
 ],
 "metadata": {
  "colab": {
   "provenance": []
  },
  "kernelspec": {
   "display_name": "Python 3 (ipykernel)",
   "language": "python",
   "name": "python3"
  },
  "language_info": {
   "codemirror_mode": {
    "name": "ipython",
    "version": 3
   },
   "file_extension": ".py",
   "mimetype": "text/x-python",
   "name": "python",
   "nbconvert_exporter": "python",
   "pygments_lexer": "ipython3",
   "version": "3.10.4"
  }
 },
 "nbformat": 4,
 "nbformat_minor": 1
}
