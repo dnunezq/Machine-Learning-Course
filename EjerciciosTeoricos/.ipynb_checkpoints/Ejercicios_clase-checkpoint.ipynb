{
 "cells": [
  {
   "cell_type": "markdown",
   "metadata": {},
   "source": [
    "# Desarrollo de ejercicios del libro Learning from Data"
   ]
  },
  {
   "cell_type": "markdown",
   "metadata": {},
   "source": [
    "### Ejercicio 1.2\n",
    "\n",
    "Suppose that we use a perceptron to detect spam messages. Let's say\n",
    "that each email message is represented by the frequency of occurrence of\n",
    "keywords, a nd the output is if the message is considered spam.\n",
    "\n",
    "1. Can you think of some keywords that wi ll end up with a large positive\n",
    "weight in the perceptron?\n",
    "\n",
    "    - Es posible que palabras como gratis, oferta, loteria, premio terminen con un gran peso positivo, pues estás por lo general se relacionan a correos que corresponden con spa m.\n",
    "\n",
    "2.  How a bout keywords that will get a negative weight?\n",
    "\n",
    "    - Palabras como Hola, Coordial, Saludos, corresponden por lo general a palabras que se presentan en correos cotidianos y que por lo general no son spam, por lo que tendrían un peso negativo.\n",
    "\n",
    "3. What parameter in the perceptron directly affects how many borderline messages end up being classified as spam? \n",
    "\n",
    "    - El parametro $b$ es el que determina estos casos borde. Pues precisamente $b$ es usado como el límite para clasificar entre spam y no spam."
   ]
  },
  {
   "cell_type": "markdown",
   "metadata": {},
   "source": [
    "### Ejercicio 1.3\n",
    "\n",
    "The weight update rule in (1.3) has the nice interpretation that it moves\n",
    "in the direction of classifying $x(t)$ correctly.\n",
    "\n",
    "1. Show that $y(t)w^T(t)x(t) < 0$ . \n",
    "    - si $x(t)$ se clasifica incorrectamente por $w(t)$, entonces se tiene que $w^T(t)x(t)$ y $y(t)$ tienen signos diferentes, luego $y(t)w^T(t)x(t) < 0$.\n",
    "\n",
    "2. Show that $y(t)w^T(t+1)x(t) > y(t)w^T(t)x(t)$ . \n",
    "\n",
    "   \\begin{align}\n",
    "    y(t)w^T(t+1)x(t) &= y(t)(w(t)+y(t)x(t))^Tx(t) \\\\\n",
    "         &= y(t)(w^T(t)+y(t)x^T(t))x(t)\\\\\n",
    "         &= y(t)w^T(t)x(t)+y(t)y(t)x^T(t)x(t)\\\\\n",
    "         &> y(t)w^T(t)x(t)\n",
    "    \\end{align}\n",
    "3. As far as classifying $x(t)$ is concerned, argue that the move from $w(t)$\n",
    "to $w(t + 1)$ is a move 'in the right direction'. \n",
    "\n",
    "    - Se tiene que $y(t)w^T(t)x(t)$ se incrementa con cada actualización. Si $y(t)$ es negativo pero $w^T(t)x(t)$ es positivo, entonces $w^T(t)x(t)$ se mueve hacia la parte positiva, aumentándolo.\n",
    "    Si $y(t)$ es negativo pero $w^T(t)x(t)$ es positivo, entonces $w^T(t)x(t)$ se mueve hacia la parte negativa, disminuyéndolo y de esta manera $y(t)w^T(t)x(t)$ aumenta.\n",
    "\n",
    "    De esta manera moverse de $w(t)$ a $w(t)$ es un movimiento en la dirección correcta.\n"
   ]
  },
  {
   "cell_type": "markdown",
   "metadata": {},
   "source": [
    "## Ejercicio 1.10\n",
    "\n",
    "Here is an experiment that illustrates the difference between a single bin\n",
    "and multiple bins. Run a computer simulation for flipping 1,000 fair coins.\n",
    "Flip each coin independently times. Let's focus on 3 coins as follows:\n",
    "$c_1$ is the first coin flipped; $c_{rand}$ is a coin you choose at random; $c_{min}$ is the\n",
    "coin that had the minimum frequency of heads (pick the earlier one in case\n",
    "of a tie). Let $v_1$ , $v_{rand}$ and $v_{min}$ be the fraction of heads you obtain for the\n",
    "respective three coins."
   ]
  },
  {
   "cell_type": "code",
   "execution_count": 14,
   "metadata": {},
   "outputs": [],
   "source": [
    "import numpy as np\n",
    "import matplotlib.pyplot as plt"
   ]
  },
  {
   "cell_type": "code",
   "execution_count": 15,
   "metadata": {},
   "outputs": [],
   "source": [
    "def flip_coins(total_coins):\n",
    "    \"\"\"Flip all coins once, return their head/tail status\n",
    "    \"\"\"\n",
    "    \n",
    "    hts = np.zeros(total_coins) #head: 1, tail: 0\n",
    "    probs = np.random.uniform(size=total_coins)\n",
    "    hts[probs > 0.5] = 1\n",
    "    return hts\n",
    "\n",
    "def hoeffding_bound(epsilon, n):\n",
    "    return 2.0*np.exp(-2.0*n*epsilon**2)"
   ]
  },
  {
   "cell_type": "code",
   "execution_count": 8,
   "metadata": {},
   "outputs": [],
   "source": [
    "def run_once(total_coins, total_flips, print_freq = False):\n",
    "    v1, vrand, vmin = None, None, None\n",
    "    crand = np.random.choice(total_coins)\n",
    "    hts_sum = np.zeros(total_coins) # store the sum of heads in total_flips\n",
    "    \n",
    "    for flip in range(total_flips):\n",
    "        hts_sum = hts_sum + flip_coins(total_coins)\n",
    "    \n",
    "    hts_freq = hts_sum/total_flips\n",
    "    \n",
    "    v1 = hts_freq[0]\n",
    "    vrand = hts_freq[crand]\n",
    "    cmin = np.argmin(hts_sum)\n",
    "    vmin = hts_freq[cmin]\n",
    "    \n",
    "    if print_freq:\n",
    "        print('Frequency of first coin: {}'.format(v1))\n",
    "        print('Frequency of a random coin: id({})-freq({})'.format(crand, vrand))\n",
    "        print('Frequency of the coin with minimum frequency: id({})-freq({})'.format(cmin, vmin))\n",
    "    return v1,vrand,vmin"
   ]
  },
  {
   "cell_type": "markdown",
   "metadata": {},
   "source": [
    "1. What is $\\mu$ for the three coins selected?"
   ]
  },
  {
   "cell_type": "code",
   "execution_count": 9,
   "metadata": {},
   "outputs": [
    {
     "name": "stdout",
     "output_type": "stream",
     "text": [
      "Frequency of first coin: 0.3\n",
      "Frequency of a random coin: id(7)-freq(0.4)\n",
      "Frequency of the coin with minimum frequency: id(12)-freq(0.1)\n"
     ]
    },
    {
     "data": {
      "text/plain": [
       "(0.3, 0.4, 0.1)"
      ]
     },
     "execution_count": 9,
     "metadata": {},
     "output_type": "execute_result"
    }
   ],
   "source": [
    "total_coins = 1000\n",
    "total_flips = 10\n",
    "run_once(total_coins, total_flips, True)"
   ]
  },
  {
   "cell_type": "markdown",
   "metadata": {},
   "source": [
    "\n",
    "2.  Repeat this entire experiment a large number of times (e.g. , 100, 000\n",
    "runs of the entire experiment) to get several instances of v1 , Vrand\n",
    "and Vmin a nd plot the histograms of the distributions of v1 , Vrand a nd\n",
    "Vmin · Notice that which coins end up being Crand and Cmin may differ\n",
    "from one run to another.\n"
   ]
  },
  {
   "cell_type": "code",
   "execution_count": 16,
   "metadata": {},
   "outputs": [
    {
     "data": {
      "text/plain": [
       "(array([6.2747e+04, 0.0000e+00, 0.0000e+00, 0.0000e+00, 0.0000e+00,\n",
       "        3.7252e+04, 0.0000e+00, 0.0000e+00, 0.0000e+00, 1.0000e+00]),\n",
       " array([0.  , 0.02, 0.04, 0.06, 0.08, 0.1 , 0.12, 0.14, 0.16, 0.18, 0.2 ]),\n",
       " <BarContainer object of 10 artists>)"
      ]
     },
     "execution_count": 16,
     "metadata": {},
     "output_type": "execute_result"
    },
    {
     "data": {
      "image/png": "[encoded data removed]",
      "text/plain": [
       "<Figure size 432x288 with 3 Axes>"
      ]
     },
     "metadata": {
      "needs_background": "light"
     },
     "output_type": "display_data"
    }
   ],
   "source": [
    "total_coins = 1000\n",
    "total_flips = 10\n",
    "total_runs = 100000\n",
    "v1s, vrands, vmins = [],[],[]\n",
    "for run in range(total_runs):\n",
    "    v1,vrand,vmin = run_once(total_coins, total_flips)\n",
    "    v1s.append(v1)\n",
    "    vrands.append(vrand)\n",
    "    vmins.append(vmin)\n",
    "\n",
    "fig, axs = plt.subplots(1,3,sharey=True, tight_layout=True)\n",
    "n_bins = 10\n",
    "axs[0].hist(v1s,bins=n_bins)\n",
    "axs[1].hist(vrands,bins=n_bins)\n",
    "axs[2].hist(vmins,bins=n_bins)"
   ]
  },
  {
   "cell_type": "markdown",
   "metadata": {},
   "source": [
    "3. Using (2), plot estimates for $P[|v-\\mu| > \\epsilon]$ as a function of $\\epsilon$, together\n",
    "with the Hoeffding bound $2e^{2e^2N}$ (on the same graph).\n"
   ]
  },
  {
   "cell_type": "code",
   "execution_count": 17,
   "metadata": {},
   "outputs": [
    {
     "data": {
      "text/plain": [
       "<matplotlib.legend.Legend at 0x1a143ff4b50>"
      ]
     },
     "execution_count": 17,
     "metadata": {},
     "output_type": "execute_result"
    },
    {
     "data": {
      "image/png": "[encoded data removed]",
      "text/plain": [
       "<Figure size 432x288 with 1 Axes>"
      ]
     },
     "metadata": {
      "needs_background": "light"
     },
     "output_type": "display_data"
    }
   ],
   "source": [
    "# Exercise 1.10 (c)\n",
    "eps = np.arange(0.0,0.5,0.05)\n",
    "bounds = hoeffding_bound(eps, total_flips)\n",
    "v1s, vrands, vmins = np.array(v1s), np.array(vrands), np.array(vmins)\n",
    "v1d = np.abs(v1s-0.5)\n",
    "vrandd = np.abs(vrands-0.5)\n",
    "vmind = np.abs(vmins-0.5)\n",
    "\n",
    "p1, prand, pmin = np.zeros(len(eps)),np.zeros(len(eps)),np.zeros(len(eps))\n",
    "\n",
    "for idx in range(eps.shape[0]):\n",
    "    ep = eps[idx]\n",
    "    p1[idx] = np.sum(v1d > ep)/total_runs\n",
    "    prand[idx] = np.sum(vrandd > ep)/total_runs\n",
    "    pmin[idx] = np.sum(vmind > ep)/total_runs\n",
    "\n",
    "#plt.ylim((0,0.01))    \n",
    "plt.plot(eps, bounds, marker='o', markerfacecolor='blue', markersize=8, color='skyblue', label='Hoeffding Bound')\n",
    "plt.plot(eps, p1, marker='', color='r', linewidth=1, label='First Coin')\n",
    "plt.plot(eps, prand, marker='', color='g', linewidth=1, linestyle='dashed', label='Random Coin')\n",
    "plt.plot(eps, pmin, marker='', color='y', linewidth=1, linestyle='dashed', label='Coin with Minimum Freq')\n",
    "plt.legend()"
   ]
  },
  {
   "cell_type": "markdown",
   "metadata": {},
   "source": [
    "4. Which coins obey the Hoeffding bound, and which ones do not? Explain why.\n",
    "\n",
    "    Se observa que la primera moneda y la moneda aleatoria sigue la desigualdad de Hoeffding y la moneda con la mínima frecuencia no la cumple, para la moneda $c_{min}$ no se cumple pues se viola el supuesto de que la hipótesis $h$ debe ser fija antes de generar los datos y el $c_{min}$ se escoje despues de correr el experimento.\n"
   ]
  },
  {
   "cell_type": "markdown",
   "metadata": {},
   "source": [
    "### Ejercicio 1.11"
   ]
  },
  {
   "cell_type": "markdown",
   "metadata": {},
   "source": [
    "<img src=\"images/ej_1_11.JPG\" width=\"500\"/>"
   ]
  },
  {
   "cell_type": "markdown",
   "metadata": {},
   "source": [
    "1. No, $S$ no puede garantizar un mejor desempeño que el aleatorio para un punto por fuera de $D$\n",
    "\n",
    "2. Si es posible, veamos el siguiente escenario:\n",
    "\n",
    "    si $f$ tiene 25+1 en $D$ pero -1 en todos los demás puntos en $X$, $S$ va a escoger la hipótesis $h_1$ la cual no va a coincidir con $f$ por fuera de $D$. Por otra parte una función aleatoria va a coincidir con $f$ la mitad de las veces, lo cual va ha ser mejor que la función producida por $S$.\n",
    "\n",
    "3. Si cada punto de $D$ tiene 1, entonces $S$ va ha escoger $h_1$ y $C$ va ha escoger $h_2$, luego por fuera de $D$, $h_1$ tendrá una probabilidad del 0.9 de coincidir con $f$, mientras que $h_2$ solo tendrá 0.1 de probabilidad . Luego $S$ produce una mejor hipótesis.\n",
    "\n",
    "4. Es claro que si $p<0.5$ entonces $C$ va a producir una mejor hipotesis que $S$, pues $C$ produce $h_2$."
   ]
  },
  {
   "cell_type": "markdown",
   "metadata": {},
   "source": [
    "### Ejercicio 1.12\n",
    "<img src=\"images/ej_1_12.JPG\" width=\"550\"/>\n"
   ]
  },
  {
   "cell_type": "markdown",
   "metadata": {},
   "source": [
    "Lo más adecuado es comprometerse con la opción $c$, puesto que desconocemos por completo $f$, está puede ser muy compleja y puede que no se pueda aprender muy bien. Por otra parte como se tienen muchos puntos, si se llega a encontrar $g$, se tendría por la probabilidad de Hoeffding que el error de $g$ respecto a $f$ puede ser pequeño y de esta manera $g$ se aproximaría bien a $f$."
   ]
  }
 ],
 "metadata": {
  "kernelspec": {
   "display_name": "Python 3 (ipykernel)",
   "language": "python",
   "name": "python3"
  },
  "language_info": {
   "codemirror_mode": {
    "name": "ipython",
    "version": 3
   },
   "file_extension": ".py",
   "mimetype": "text/x-python",
   "name": "python",
   "nbconvert_exporter": "python",
   "pygments_lexer": "ipython3",
   "version": "3.10.4"
  }
 },
 "nbformat": 4,
 "nbformat_minor": 2
}
